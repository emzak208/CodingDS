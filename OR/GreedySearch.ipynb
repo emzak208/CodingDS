{
 "cells": [
  {
   "cell_type": "code",
   "execution_count": null,
   "metadata": {
    "collapsed": true
   },
   "outputs": [],
   "source": [
    "'''\n",
    "In the graph below, a greedy algorithm is trying to find the longest path through the graph \n",
    "(the number inside each node contributes to a total length). \n",
    "To do this, it selects the largest number at each step of the algorithm.\n",
    "'''"
   ]
  },
  {
   "cell_type": "code",
   "execution_count": 1,
   "metadata": {
    "collapsed": true
   },
   "outputs": [],
   "source": [
    "class Tree(object):\n",
    "    '''binary tree'''\n",
    "    def __init__(self, value, left, right):\n",
    "        self.value = value\n",
    "        self.left = left\n",
    "        self.right = right"
   ]
  },
  {
   "cell_type": "code",
   "execution_count": 2,
   "metadata": {
    "collapsed": true
   },
   "outputs": [],
   "source": [
    "'''build tree'''\n",
    "leaf1 = Tree(99, None, None)\n",
    "leaf2 = Tree(4, None, None)\n",
    "leaf3 = Tree(8, None, None)\n",
    "leaf4 = Tree(13, None, None)\n",
    "leaf5 = Tree(2, None, None)\n",
    "leaf6 = Tree(9, None, None)\n",
    "leaf7 = Tree(11, None, None)\n",
    "leaf8 = Tree(14, None, None)\n",
    "node1 = Tree(1, leaf1, leaf2)\n",
    "node2 = Tree(10, leaf3, leaf4)\n",
    "node3 = Tree(6, leaf5, leaf6)\n",
    "node4 = Tree(5, leaf7, leaf8)\n",
    "node5 = Tree(3, node1, node2)\n",
    "node6 = Tree(12, node3, node4)\n",
    "root = Tree(7, node5, node6)"
   ]
  },
  {
   "cell_type": "code",
   "execution_count": 6,
   "metadata": {
    "collapsed": false
   },
   "outputs": [],
   "source": [
    "def greedySearch(tree): \n",
    "    if tree.left is None and tree.right is None: # reach leaf node\n",
    "        return tree.value\n",
    "    elif tree.left is None and tree.right is not None:\n",
    "        return tree.value + greedySearch(tree.right)\n",
    "    elif tree.left is not None and tree.right is None:\n",
    "        return tree.value + greedySearch(tree.left)\n",
    "    else:\n",
    "        if tree.left.value <= tree.right.value:\n",
    "            return tree.value + greedySearch(tree.right)\n",
    "        else:\n",
    "            return tree.value + greedySearch(tree.left)"
   ]
  },
  {
   "cell_type": "code",
   "execution_count": 8,
   "metadata": {
    "collapsed": false
   },
   "outputs": [
    {
     "name": "stdout",
     "output_type": "stream",
     "text": [
      "34\n"
     ]
    }
   ],
   "source": [
    "print greedySearch(root)"
   ]
  },
  {
   "cell_type": "code",
   "execution_count": null,
   "metadata": {
    "collapsed": true
   },
   "outputs": [],
   "source": []
  }
 ],
 "metadata": {
  "kernelspec": {
   "display_name": "Python 2",
   "language": "python",
   "name": "python2"
  },
  "language_info": {
   "codemirror_mode": {
    "name": "ipython",
    "version": 2
   },
   "file_extension": ".py",
   "mimetype": "text/x-python",
   "name": "python",
   "nbconvert_exporter": "python",
   "pygments_lexer": "ipython2",
   "version": "2.7.13"
  }
 },
 "nbformat": 4,
 "nbformat_minor": 2
}
