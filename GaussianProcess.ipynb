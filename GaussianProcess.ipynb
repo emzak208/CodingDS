{
 "cells": [
  {
   "cell_type": "code",
   "execution_count": 1,
   "metadata": {
    "collapsed": true
   },
   "outputs": [],
   "source": [
    "\"\"\"\n",
    "Description: Example of Gaussian Process Regression.\n",
    "\"\"\"\n",
    "\n",
    "from numpy import *\n",
    "import pylab"
   ]
  },
  {
   "cell_type": "code",
   "execution_count": 2,
   "metadata": {
    "collapsed": true
   },
   "outputs": [],
   "source": [
    "class Kernel(object):\n",
    "    \"\"\"\n",
    "    Kernel from Bishop's Pattern Recognition and Machine Learning pg. 307 Eqn. 6.63.\n",
    "    \"\"\"\n",
    "    def __init__(self,*args):\n",
    "        self.thetas = args\n",
    "\n",
    "    def __call__(self,x,y):\n",
    "        exponential = self.thetas[0] * exp( -0.5 * self.thetas[1] * sum( (x - y)**2 ) )\n",
    "        linear = self.thetas[3] * dot(x,y)\n",
    "        constant = self.thetas[2]\n",
    "        return exponential + constant + linear\n",
    "\n",
    "class OrnsteinKernel(object):\n",
    "    \"\"\"\n",
    "    Ornstein-Uhlenbeck process kernel.\n",
    "    \"\"\"\n",
    "    def __init__(self,theta):\n",
    "        self.theta = theta\n",
    "\n",
    "    def __call__(self,x,y):\n",
    "        return exp(-self.theta * sum(abs(x-y)))"
   ]
  },
  {
   "cell_type": "code",
   "execution_count": 3,
   "metadata": {
    "collapsed": true
   },
   "outputs": [],
   "source": [
    "def covariance(kernel, data):\n",
    "    return reshape([kernel(x,y) for x in data for y in data], (len(data),len(data)))\n",
    "\n",
    "def draw_multivariate_gaussian(mean,C):\n",
    "    ndim = len(mean)\n",
    "    z = random.standard_normal(ndim)\n",
    "    \n",
    "    # Better numerical stabability than cholskey decomposition for\n",
    "    # near-singular matrices C.\n",
    "    [U,S,V] = linalg.svd(C)\n",
    "    A = U * sqrt(S)\n",
    "\n",
    "    return mean + dot(A,z)\n",
    "\n",
    "def train(data,kernel):\n",
    "    mean = zeros(len(data))\n",
    "    C = covariance(kernel,data)\n",
    "    return (mean,C)\n",
    "\n",
    "def predict(x, data, kernel, C, t):\n",
    "    \"\"\"\n",
    "    The prediction equations are from Bishop pg 308. eqns. 6.66 and 6.67.\n",
    "    \"\"\"\n",
    "\n",
    "    k = [kernel(x,y) for y in data]\n",
    "    Cinv = linalg.inv(C)\n",
    "    m = dot(dot(k,Cinv),t)\n",
    "    sigma = kernel(x,x) - dot(dot(k,Cinv),k)\n",
    "    return (x,m,sigma)"
   ]
  },
  {
   "cell_type": "code",
   "execution_count": 4,
   "metadata": {
    "collapsed": false
   },
   "outputs": [
    {
     "data": {
      "image/png": "[encoded data removed]",
      "text/plain": [
       "<matplotlib.figure.Figure at 0x5e2f320>"
      ]
     },
     "metadata": {},
     "output_type": "display_data"
    },
    {
     "data": {
      "image/png": "[encoded data removed]",
      "text/plain": [
       "<matplotlib.figure.Figure at 0x754ff98>"
      ]
     },
     "metadata": {},
     "output_type": "display_data"
    }
   ],
   "source": [
    "#kernel = OrnsteinKernel(1.0)\n",
    "kernel = Kernel(1.0, 64.0, 0.0, 0.0)\n",
    "\n",
    "# Some sample training points.\n",
    "xpts = random.rand(10) * 2 - 1\n",
    "\n",
    "# In the context of Gaussian Processes training means simply\n",
    "# constructing the kernel (or Gram) matrix.\n",
    "(m,C) = train(xpts, kernel)\n",
    "\n",
    "# Now we draw from the distribution to sample from the gaussian prior.\n",
    "t = draw_multivariate_gaussian(m,C)\n",
    "\n",
    "pylab.figure(0)\n",
    "pylab.plot(xpts, t, \"+\")\n",
    "\n",
    "# Instead of regressing against some known function, lets just see\n",
    "# what happens when we predict based on the sampled prior. This seems\n",
    "# to be what a lot of other demo code does.\n",
    "\n",
    "# Explore the results of GP regression in the target domain.\n",
    "predictions = [predict(i,xpts,kernel,C,t) for i in arange(-1,1,0.01)]\n",
    "\n",
    "pylab.figure(1)\n",
    "x = [prediction[0] for prediction in predictions]\n",
    "y = [prediction[1] for prediction in predictions]\n",
    "sigma = [prediction[2] for prediction in predictions]\n",
    "pylab.errorbar(x,y,yerr=sigma)\n",
    "\n",
    "pylab.show()"
   ]
  },
  {
   "cell_type": "code",
   "execution_count": null,
   "metadata": {
    "collapsed": true
   },
   "outputs": [],
   "source": []
  }
 ],
 "metadata": {
  "kernelspec": {
   "display_name": "Python 2",
   "language": "python",
   "name": "python2"
  },
  "language_info": {
   "codemirror_mode": {
    "name": "ipython",
    "version": 2
   },
   "file_extension": ".py",
   "mimetype": "text/x-python",
   "name": "python",
   "nbconvert_exporter": "python",
   "pygments_lexer": "ipython2",
   "version": "2.7.13"
  }
 },
 "nbformat": 4,
 "nbformat_minor": 2
}
