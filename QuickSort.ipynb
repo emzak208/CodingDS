{
 "cells": [
  {
   "cell_type": "code",
   "execution_count": null,
   "metadata": {
    "collapsed": true
   },
   "outputs": [],
   "source": [
    "'''quick sort\n",
    "iteration\n",
    "1. pick a pivot\n",
    "2. sort other values compared with pivot, \n",
    "    less than pivot in the first half\n",
    "    more than pivot in the second half\n",
    "'''"
   ]
  },
  {
   "cell_type": "code",
   "execution_count": null,
   "metadata": {
    "collapsed": true
   },
   "outputs": [],
   "source": [
    "def quicksort(numbers, lo, hi):\n",
    "    if lo < hi:\n",
    "        pi = partition(numbers, lo, hi)\n",
    "        quicksort(numbers, lo, pi-1)\n",
    "        quicksort(numbers, pi+1, hi)"
   ]
  },
  {
   "cell_type": "code",
   "execution_count": null,
   "metadata": {
    "collapsed": true
   },
   "outputs": [],
   "source": [
    "def partition(numbers, lo, hi):\n",
    "    pi = numbers[hi]\n",
    "    for idx in range(lo, hi-1):\n",
    "        if numbers[idx] > pi:\n",
    "            '''...'''"
   ]
  }
 ],
 "metadata": {
  "kernelspec": {
   "display_name": "Python 2",
   "language": "python",
   "name": "python2"
  },
  "language_info": {
   "codemirror_mode": {
    "name": "ipython",
    "version": 2
   },
   "file_extension": ".py",
   "mimetype": "text/x-python",
   "name": "python",
   "nbconvert_exporter": "python",
   "pygments_lexer": "ipython2",
   "version": "2.7.13"
  }
 },
 "nbformat": 4,
 "nbformat_minor": 2
}
