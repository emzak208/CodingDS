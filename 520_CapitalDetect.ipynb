{
 "cells": [
  {
   "cell_type": "code",
   "execution_count": 20,
   "metadata": {
    "collapsed": true
   },
   "outputs": [],
   "source": [
    "class Solution(object):\n",
    "    def detectCapitalUse(self, word):\n",
    "        \"\"\"\n",
    "        :type word: str\n",
    "        :rtype: bool\n",
    "        \"\"\"\n",
    "        res_list = map(self.isLowerLetter, word)\n",
    "       \n",
    "        if all(res_list): # all lower\n",
    "            return True\n",
    "        elif not any(res_list): # all upper\n",
    "            return True\n",
    "        elif res_list[0]==False and all(res_list[1:]): # 1st uppper, rest lower\n",
    "            return True\n",
    "        else:\n",
    "            return False\n",
    "        \n",
    "    def isLowerLetter(self, l):\n",
    "        if (l <= 'z' and l >= 'a'):\n",
    "            return True\n",
    "        else:\n",
    "            return False"
   ]
  },
  {
   "cell_type": "code",
   "execution_count": 23,
   "metadata": {
    "collapsed": false
   },
   "outputs": [
    {
     "name": "stdout",
     "output_type": "stream",
     "text": [
      "True\n",
      "True\n",
      "True\n",
      "False\n"
     ]
    }
   ],
   "source": [
    "test = Solution()\n",
    "print(test.detectCapitalUse('Google'))\n",
    "print(test.detectCapitalUse('USA'))\n",
    "print(test.detectCapitalUse('world'))\n",
    "print(test.detectCapitalUse('flaG'))\n"
   ]
  },
  {
   "cell_type": "code",
   "execution_count": null,
   "metadata": {
    "collapsed": true
   },
   "outputs": [],
   "source": []
  }
 ],
 "metadata": {
  "kernelspec": {
   "display_name": "Python 2",
   "language": "python",
   "name": "python2"
  },
  "language_info": {
   "codemirror_mode": {
    "name": "ipython",
    "version": 2
   },
   "file_extension": ".py",
   "mimetype": "text/x-python",
   "name": "python",
   "nbconvert_exporter": "python",
   "pygments_lexer": "ipython2",
   "version": "2.7.13"
  }
 },
 "nbformat": 4,
 "nbformat_minor": 2
}
