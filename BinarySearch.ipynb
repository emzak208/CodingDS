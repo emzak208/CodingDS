{
 "cells": [
  {
   "cell_type": "code",
   "execution_count": 1,
   "metadata": {
    "collapsed": true
   },
   "outputs": [],
   "source": [
    "import numpy as np"
   ]
  },
  {
   "cell_type": "code",
   "execution_count": 11,
   "metadata": {
    "collapsed": false
   },
   "outputs": [
    {
     "name": "stdout",
     "output_type": "stream",
     "text": [
      "0\n"
     ]
    }
   ],
   "source": [
    "'''\n",
    "binary search only works for sorted array,\n",
    "for unsorted array, do sorting at first\n",
    "'''\n",
    "test_array = np.array([-10, -8, 0, 1, 5, 7, 9, 12, 20])\n",
    "print int(1.5/2)"
   ]
  },
  {
   "cell_type": "code",
   "execution_count": 15,
   "metadata": {
    "collapsed": true
   },
   "outputs": [],
   "source": [
    "# return the index of target in numbers\n",
    "def binarySearch(numbers, target):\n",
    "    '''\n",
    "    # cannot find target since its value is beyond the range\n",
    "    if target < numbers[0] or target > numbers[len(numbers)-1]:\n",
    "        return float('nan')\n",
    "    '''\n",
    "    \n",
    "    length = len(numbers)\n",
    "    guess_idx = int(length/2)\n",
    "    guess = numbers[guess_idx]\n",
    "    \n",
    "    # cannot find target within the array\n",
    "    if length == 1 and guess != target:\n",
    "        return float('nan')\n",
    "    \n",
    "    # do binary search\n",
    "    if (target > guess):\n",
    "        guess = binarySearch(numbers[(guess_idx+1):length], target)\n",
    "    elif (target < guess):\n",
    "        guess = binarySearch(numbers[0:guess_idx], target)\n",
    "    \n",
    "    return guess"
   ]
  },
  {
   "cell_type": "code",
   "execution_count": 16,
   "metadata": {
    "collapsed": false
   },
   "outputs": [
    {
     "data": {
      "text/plain": [
       "-8"
      ]
     },
     "execution_count": 16,
     "metadata": {},
     "output_type": "execute_result"
    }
   ],
   "source": [
    "binarySearch(test_array, -8)"
   ]
  },
  {
   "cell_type": "code",
   "execution_count": null,
   "metadata": {
    "collapsed": true
   },
   "outputs": [],
   "source": []
  }
 ],
 "metadata": {
  "kernelspec": {
   "display_name": "Python 2",
   "language": "python",
   "name": "python2"
  },
  "language_info": {
   "codemirror_mode": {
    "name": "ipython",
    "version": 2
   },
   "file_extension": ".py",
   "mimetype": "text/x-python",
   "name": "python",
   "nbconvert_exporter": "python",
   "pygments_lexer": "ipython2",
   "version": "2.7.13"
  }
 },
 "nbformat": 4,
 "nbformat_minor": 2
}
