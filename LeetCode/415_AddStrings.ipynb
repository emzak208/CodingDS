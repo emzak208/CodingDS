{
 "cells": [
  {
   "cell_type": "code",
   "execution_count": 20,
   "metadata": {
    "collapsed": true
   },
   "outputs": [],
   "source": [
    "class Solution(object):\n",
    "    def addStrings(self, num1, num2):\n",
    "        \"\"\"\n",
    "        :type num1: str\n",
    "        :type num2: str\n",
    "        :rtype: str\n",
    "        \"\"\"\n",
    "        \n",
    "        if len(num1) < len(num2):\n",
    "            num1 = ''.join(['0']*(len(num2)-len(num1))) + num1\n",
    "        if len(num1) > len(num2):\n",
    "            num2 = ''.join(['0']*(len(num1)-len(num2))) + num2\n",
    "        \n",
    "        res_vec = []\n",
    "        for pair in zip(num1, num2):\n",
    "            res_vec.append(int(pair[0])+int(pair[1]))\n",
    "        \n",
    "        res = 0\n",
    "        length = len(res_vec)\n",
    "        for i in range(len(res_vec)):\n",
    "            res += 10**(length-i-1)*res_vec[i]\n",
    "        return str(res)\n",
    "        "
   ]
  },
  {
   "cell_type": "code",
   "execution_count": 21,
   "metadata": {
    "collapsed": false
   },
   "outputs": [
    {
     "name": "stdout",
     "output_type": "stream",
     "text": [
      "15923\n"
     ]
    }
   ],
   "source": [
    "test = Solution()\n",
    "print(test.addStrings('12345', '3578'))"
   ]
  },
  {
   "cell_type": "code",
   "execution_count": null,
   "metadata": {
    "collapsed": true
   },
   "outputs": [],
   "source": []
  }
 ],
 "metadata": {
  "kernelspec": {
   "display_name": "Python 2",
   "language": "python",
   "name": "python2"
  },
  "language_info": {
   "codemirror_mode": {
    "name": "ipython",
    "version": 2
   },
   "file_extension": ".py",
   "mimetype": "text/x-python",
   "name": "python",
   "nbconvert_exporter": "python",
   "pygments_lexer": "ipython2",
   "version": "2.7.13"
  }
 },
 "nbformat": 4,
 "nbformat_minor": 2
}
