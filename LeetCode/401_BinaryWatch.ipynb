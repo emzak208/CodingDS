{
 "cells": [
  {
   "cell_type": "code",
   "execution_count": 31,
   "metadata": {
    "collapsed": true
   },
   "outputs": [],
   "source": [
    "from itertools import permutations\n",
    "class Solution(object):\n",
    "    def readBinaryWatch(self, num):\n",
    "        \"\"\"\n",
    "        :type num: int\n",
    "        :rtype: List[str]\n",
    "        \"\"\"\n",
    "        self.hours = [8, 4, 2, 1]\n",
    "        self.mins = [32, 16, 8, 4, 2, 1]\n",
    "        \n",
    "        self.res = []\n",
    "        \n",
    "        def possibleTime(n_hour, n_min):\n",
    "            # deal with possible hours\n",
    "            res_hours = []\n",
    "            for subset in permutations(self.hours, n_hour):\n",
    "                tmp_hours = sum(subset)\n",
    "                if tmp_hours < 12:\n",
    "                    res_hours.append(tmp_hours)\n",
    "            \n",
    "            # deal with possible mins\n",
    "            res_mins = []\n",
    "            for subset in permutations(self.mins, n_min):\n",
    "                tmp_mins = sum(subset)\n",
    "                if tmp_mins < 60:\n",
    "                    res_mins.append(tmp_mins)\n",
    "            \n",
    "            res_hours = set(res_hours)\n",
    "            res_mins = set(res_mins)\n",
    "            \n",
    "            # get possible hours:mins\n",
    "            for h in res_hours:\n",
    "                for m in res_mins:\n",
    "                    if h < 10 and h > 0:\n",
    "                        h = '0'+str(h)\n",
    "                    else:\n",
    "                        h = str(h)\n",
    "                    \n",
    "                    if m < 10:\n",
    "                        m = '0' + str(m)\n",
    "                    else:\n",
    "                        m = str(m)\n",
    "                    \n",
    "                    self.res.append(h + ':' + m)\n",
    "        \n",
    "        for n in range(num+1):\n",
    "            possibleTime(n,num-n)\n",
    "        \n",
    "        return self.res"
   ]
  },
  {
   "cell_type": "code",
   "execution_count": 32,
   "metadata": {
    "collapsed": false
   },
   "outputs": [
    {
     "name": "stdout",
     "output_type": "stream",
     "text": [
      "['00:32', '00:01', '00:02', '00:04', '00:08', '00:16', '08:00', '01:00', '02:00', '04:00']\n"
     ]
    }
   ],
   "source": [
    "test = Solution()\n",
    "print(test.readBinaryWatch(1))"
   ]
  },
  {
   "cell_type": "code",
   "execution_count": null,
   "metadata": {
    "collapsed": true
   },
   "outputs": [],
   "source": []
  }
 ],
 "metadata": {
  "kernelspec": {
   "display_name": "Python 2",
   "language": "python",
   "name": "python2"
  },
  "language_info": {
   "codemirror_mode": {
    "name": "ipython",
    "version": 2
   },
   "file_extension": ".py",
   "mimetype": "text/x-python",
   "name": "python",
   "nbconvert_exporter": "python",
   "pygments_lexer": "ipython2",
   "version": "2.7.13"
  }
 },
 "nbformat": 4,
 "nbformat_minor": 2
}
