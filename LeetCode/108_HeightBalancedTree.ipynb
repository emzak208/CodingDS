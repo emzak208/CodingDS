{
 "cells": [
  {
   "cell_type": "code",
   "execution_count": null,
   "metadata": {
    "collapsed": true
   },
   "outputs": [],
   "source": [
    "'''\n",
    "1) Left subtree of T is balanced\n",
    "2) Right subtree of T is balanced\n",
    "3) The difference between heights of left subtree and right subtree is not more than 1.\n",
    "'''"
   ]
  },
  {
   "cell_type": "code",
   "execution_count": null,
   "metadata": {
    "collapsed": true
   },
   "outputs": [],
   "source": [
    "# Definition for a binary tree node.\n",
    "# class TreeNode(object):\n",
    "#     def __init__(self, x):\n",
    "#         self.val = x\n",
    "#         self.left = None\n",
    "#         self.right = None\n",
    "\n",
    "class Solution(object):\n",
    "    def sortedArrayToBST(self, nums):\n",
    "        \"\"\"\n",
    "        :type nums: List[int]\n",
    "        :rtype: TreeNode\n",
    "        \"\"\"\n",
    "        return buildTree(nums)\n",
    "    \n",
    "    def buildTree(subnums):\n",
    "        if len(subnums) == 0: return None\n",
    "        mid_idx = int(len(subnums)/2.0)\n",
    "        mid_val = subnums[mid_idx]\n",
    "        node = TreeNode(mid_val)\n",
    "        node.left = buildTree(subnums[:mid_idx])\n",
    "        node.right = buildTree(subnums[(mid_idx+1):])\n",
    "        return node"
   ]
  }
 ],
 "metadata": {
  "kernelspec": {
   "display_name": "Python 2",
   "language": "python",
   "name": "python2"
  },
  "language_info": {
   "codemirror_mode": {
    "name": "ipython",
    "version": 2
   },
   "file_extension": ".py",
   "mimetype": "text/x-python",
   "name": "python",
   "nbconvert_exporter": "python",
   "pygments_lexer": "ipython2",
   "version": "2.7.13"
  }
 },
 "nbformat": 4,
 "nbformat_minor": 2
}
