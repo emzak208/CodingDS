{
 "cells": [
  {
   "cell_type": "code",
   "execution_count": null,
   "metadata": {
    "collapsed": true
   },
   "outputs": [],
   "source": [
    "'''\n",
    "Given a List of words, return the words that can be typed \n",
    "using letters of alphabet on only one row's of American keyboard like the image below.\n",
    "'''"
   ]
  },
  {
   "cell_type": "code",
   "execution_count": 34,
   "metadata": {
    "collapsed": false
   },
   "outputs": [],
   "source": [
    "class Solution(object):\n",
    "    def __init__(self):\n",
    "        self.first = ['q', 'w', 'e', 'r', 't', 'y', 'u', 'i', 'o', 'p']\n",
    "        self.second = ['a', 's', 'd', 'f', 'g', 'h', 'j', 'k', 'l']\n",
    "        self.third = ['z', 'x', 'c', 'v', 'b', 'n', 'm']\n",
    "    \n",
    "    def canType(self, w):\n",
    "        g1 = [l.lower() in self.first for l in w]\n",
    "        g2 = [l.lower() in self.second for l in w]\n",
    "        g3 = [l.lower() in self.third for l in w]\n",
    "        if all(g1) or all(g2) or all(g3):\n",
    "            return 1\n",
    "        return 0\n",
    "    \n",
    "    def findWords(self, words):\n",
    "        \"\"\"\n",
    "        :type words: List[str]\n",
    "        :rtype: List[str]\n",
    "        \"\"\"\n",
    "        flags = map(self.canType, words)\n",
    "        \n",
    "        res = []\n",
    "        for i in range(0,len(words)):\n",
    "            if flags[i] == 1:\n",
    "                res.append(words[i])\n",
    "        \n",
    "        return res"
   ]
  },
  {
   "cell_type": "code",
   "execution_count": 35,
   "metadata": {
    "collapsed": false
   },
   "outputs": [
    {
     "name": "stdout",
     "output_type": "stream",
     "text": [
      "['Alaska', 'Dad']\n"
     ]
    }
   ],
   "source": [
    "test = Solution()\n",
    "\n",
    "print test.findWords([\"Hello\", \"Alaska\", \"Dad\", \"Peace\"])"
   ]
  },
  {
   "cell_type": "code",
   "execution_count": null,
   "metadata": {
    "collapsed": true
   },
   "outputs": [],
   "source": []
  }
 ],
 "metadata": {
  "kernelspec": {
   "display_name": "Python 2",
   "language": "python",
   "name": "python2"
  },
  "language_info": {
   "codemirror_mode": {
    "name": "ipython",
    "version": 2
   },
   "file_extension": ".py",
   "mimetype": "text/x-python",
   "name": "python",
   "nbconvert_exporter": "python",
   "pygments_lexer": "ipython2",
   "version": "2.7.13"
  }
 },
 "nbformat": 4,
 "nbformat_minor": 2
}
