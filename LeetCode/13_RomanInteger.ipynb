{
 "cells": [
  {
   "cell_type": "code",
   "execution_count": 13,
   "metadata": {
    "collapsed": true
   },
   "outputs": [],
   "source": [
    "class Solution(object):\n",
    "    def romanToInt(self, s):\n",
    "        \"\"\"\n",
    "        :type s: str\n",
    "        :rtype: int\n",
    "        \"\"\"\n",
    "        dic_roman = {'I': 1, \\\n",
    "                    'V': 5, \\\n",
    "                    'X': 10, \\\n",
    "                    'L': 50, \\\n",
    "                    'C': 100, \\\n",
    "                    'D': 500, \\\n",
    "                    'M': 1000, \\\n",
    "                    'IV': 4, \\\n",
    "                    'IX': 9, \\\n",
    "                    'XL': 40, \\\n",
    "                    'XC': 90, \\\n",
    "                    'CD': 400, \\\n",
    "                    'CM': 900}\n",
    "        \n",
    "        res = 0\n",
    "        \n",
    "        flag = False\n",
    "        for i in range(len(s)-1,-1,-1):\n",
    "            j = i-1\n",
    "            if flag:\n",
    "                flag = False\n",
    "                continue\n",
    "            if j >= 0:\n",
    "                tmps = s[j] + s[i]\n",
    "                if tmps in dic_roman:\n",
    "                    res += dic_roman[tmps]\n",
    "                    flag = True\n",
    "                    continue\n",
    "            res += dic_\n",
    "        \n",
    "        return res"
   ]
  },
  {
   "cell_type": "code",
   "execution_count": 16,
   "metadata": {
    "collapsed": false
   },
   "outputs": [
    {
     "name": "stdout",
     "output_type": "stream",
     "text": [
      "2216\n"
     ]
    }
   ],
   "source": [
    "test = Solution()\n",
    "print(test.romanToInt('MCMXCVI'))"
   ]
  },
  {
   "cell_type": "code",
   "execution_count": 20,
   "metadata": {
    "collapsed": false
   },
   "outputs": [
    {
     "name": "stdout",
     "output_type": "stream",
     "text": [
      "False\n"
     ]
    }
   ],
   "source": [
    "dic_roman = {'I': 1, \\\n",
    "                    'V': 5, \\\n",
    "                    'X': 10, \\\n",
    "                    'L': 50, \\\n",
    "                    'C': 100, \\\n",
    "                    'D': 500, \\\n",
    "                    'M': 1000, \\\n",
    "                    'IV': 4, \\\n",
    "                    'IX': 9, \\\n",
    "                    'XL': 40, \\\n",
    "                    'XC': 90, \\\n",
    "                    'CD': 400, \\\n",
    "                    'CM': 900}\n",
    "print('abc' in dic_roman.keys())"
   ]
  },
  {
   "cell_type": "code",
   "execution_count": null,
   "metadata": {
    "collapsed": true
   },
   "outputs": [],
   "source": []
  }
 ],
 "metadata": {
  "kernelspec": {
   "display_name": "Python 2",
   "language": "python",
   "name": "python2"
  },
  "language_info": {
   "codemirror_mode": {
    "name": "ipython",
    "version": 2
   },
   "file_extension": ".py",
   "mimetype": "text/x-python",
   "name": "python",
   "nbconvert_exporter": "python",
   "pygments_lexer": "ipython2",
   "version": "2.7.13"
  }
 },
 "nbformat": 4,
 "nbformat_minor": 2
}
