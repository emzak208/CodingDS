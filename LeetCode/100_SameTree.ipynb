{
 "cells": [
  {
   "cell_type": "code",
   "execution_count": null,
   "metadata": {
    "collapsed": true
   },
   "outputs": [],
   "source": [
    "# Definition for a binary tree node.\n",
    "# class TreeNode(object):\n",
    "#     def __init__(self, x):\n",
    "#         self.val = x\n",
    "#         self.left = None\n",
    "#         self.right = None\n",
    "\n",
    "class Solution(object):\n",
    "    def isSameTree(self, p, q):\n",
    "        \"\"\"\n",
    "        :type p: TreeNode\n",
    "        :type q: TreeNode\n",
    "        :rtype: bool\n",
    "        \"\"\"\n",
    "        self.res = True\n",
    "        \n",
    "        def compare(proot, qroot):\n",
    "            # preorder traverse\n",
    "            if proot is None and qroot is None:\n",
    "                return\n",
    "            if (proot is None and qroot is not None) or (proot is not None and qroot is None) or (proot.val != qroot.val):\n",
    "                self.res = False\n",
    "                return\n",
    "            compare(proot.left, qroot.left)\n",
    "            compare(proot.right, qroot.right)\n",
    "        \n",
    "        compare(p,q)\n",
    "        return self.res\n",
    "                "
   ]
  }
 ],
 "metadata": {
  "kernelspec": {
   "display_name": "Python 2",
   "language": "python",
   "name": "python2"
  },
  "language_info": {
   "codemirror_mode": {
    "name": "ipython",
    "version": 2
   },
   "file_extension": ".py",
   "mimetype": "text/x-python",
   "name": "python",
   "nbconvert_exporter": "python",
   "pygments_lexer": "ipython2",
   "version": "2.7.13"
  }
 },
 "nbformat": 4,
 "nbformat_minor": 2
}
